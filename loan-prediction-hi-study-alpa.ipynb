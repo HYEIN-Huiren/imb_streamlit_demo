{
 "cells": [
  {
   "cell_type": "markdown",
   "id": "6f9921b4",
   "metadata": {
    "papermill": {
     "duration": 0.008641,
     "end_time": "2024-10-17T05:33:32.051223",
     "exception": false,
     "start_time": "2024-10-17T05:33:32.042582",
     "status": "completed"
    },
    "tags": []
   },
   "source": [
    "# Input Data: Run at the first time\n",
    "> add Dataset's path to the os"
   ]
  },
  {
   "cell_type": "code",
   "execution_count": 1,
   "id": "6aab0f48",
   "metadata": {
    "_cell_guid": "b1076dfc-b9ad-4769-8c92-a6c4dae69d19",
    "_uuid": "8f2839f25d086af736a60e9eeb907d3b93b6e0e5",
    "execution": {
     "iopub.execute_input": "2024-10-17T05:33:32.069623Z",
     "iopub.status.busy": "2024-10-17T05:33:32.069213Z",
     "iopub.status.idle": "2024-10-17T05:33:32.083915Z",
     "shell.execute_reply": "2024-10-17T05:33:32.082691Z"
    },
    "papermill": {
     "duration": 0.025524,
     "end_time": "2024-10-17T05:33:32.086701",
     "exception": false,
     "start_time": "2024-10-17T05:33:32.061177",
     "status": "completed"
    },
    "tags": []
   },
   "outputs": [
    {
     "name": "stdout",
     "output_type": "stream",
     "text": [
      "/kaggle/input/playground-series-s4e10/sample_submission.csv\n",
      "/kaggle/input/playground-series-s4e10/train.csv\n",
      "/kaggle/input/playground-series-s4e10/test.csv\n"
     ]
    }
   ],
   "source": [
    "import os\n",
    "for dirname, _, filenames in os.walk('/kaggle/input'):\n",
    "    for filename in filenames:\n",
    "        print(os.path.join(dirname, filename))"
   ]
  },
  {
   "cell_type": "markdown",
   "id": "52d6deb7",
   "metadata": {
    "papermill": {
     "duration": 0.006278,
     "end_time": "2024-10-17T05:33:32.099804",
     "exception": false,
     "start_time": "2024-10-17T05:33:32.093526",
     "status": "completed"
    },
    "tags": []
   },
   "source": [
    "# Import Packages"
   ]
  },
  {
   "cell_type": "code",
   "execution_count": 2,
   "id": "a69a8454",
   "metadata": {
    "execution": {
     "iopub.execute_input": "2024-10-17T05:33:32.114408Z",
     "iopub.status.busy": "2024-10-17T05:33:32.113986Z",
     "iopub.status.idle": "2024-10-17T05:33:34.639832Z",
     "shell.execute_reply": "2024-10-17T05:33:34.638662Z"
    },
    "papermill": {
     "duration": 2.536509,
     "end_time": "2024-10-17T05:33:34.642746",
     "exception": false,
     "start_time": "2024-10-17T05:33:32.106237",
     "status": "completed"
    },
    "tags": []
   },
   "outputs": [],
   "source": [
    "import numpy as np\n",
    "import pandas as pd\n",
    "from datetime import datetime\n",
    "\n",
    "# Preprocessing (Pipeline)\n",
    "from sklearn.preprocessing import OrdinalEncoder, StandardScaler, OneHotEncoder\n",
    "from sklearn.pipeline import make_pipeline\n",
    "from sklearn.compose import ColumnTransformer\n",
    "\n",
    "from scipy.stats import uniform\n",
    "\n",
    "# Split dataset\n",
    "from sklearn.model_selection import train_test_split\n",
    "\n",
    "# Models\n",
    "from sklearn.linear_model import LogisticRegression\n",
    "# import xgboost as xgb\n",
    "\n",
    "# Crossvalidation\n",
    "from sklearn.model_selection import GridSearchCV, RandomizedSearchCV\n",
    "\n",
    "# Visualization\n",
    "from mpl_toolkits.axes_grid1.inset_locator import inset_axes # add complex metrics to plot\n",
    "import matplotlib.pyplot as plt\n",
    "from sklearn.metrics import roc_auc_score, roc_curve, confusion_matrix\n",
    "from sklearn.metrics import ConfusionMatrixDisplay"
   ]
  },
  {
   "cell_type": "markdown",
   "id": "1df4c7d4",
   "metadata": {
    "papermill": {
     "duration": 0.006566,
     "end_time": "2024-10-17T05:33:34.656498",
     "exception": false,
     "start_time": "2024-10-17T05:33:34.649932",
     "status": "completed"
    },
    "tags": []
   },
   "source": [
    "# Load Datasets"
   ]
  },
  {
   "cell_type": "code",
   "execution_count": 3,
   "id": "e86fdda2",
   "metadata": {
    "execution": {
     "iopub.execute_input": "2024-10-17T05:33:34.671818Z",
     "iopub.status.busy": "2024-10-17T05:33:34.671224Z",
     "iopub.status.idle": "2024-10-17T05:33:34.946677Z",
     "shell.execute_reply": "2024-10-17T05:33:34.945528Z"
    },
    "papermill": {
     "duration": 0.286309,
     "end_time": "2024-10-17T05:33:34.949551",
     "exception": false,
     "start_time": "2024-10-17T05:33:34.663242",
     "status": "completed"
    },
    "tags": []
   },
   "outputs": [],
   "source": [
    "train = pd.read_csv('/kaggle/input/playground-series-s4e10/train.csv')\n",
    "test = pd.read_csv('/kaggle/input/playground-series-s4e10/test.csv')\n",
    "df_sample = pd.read_csv('/kaggle/input/playground-series-s4e10/sample_submission.csv')"
   ]
  },
  {
   "cell_type": "markdown",
   "id": "193a8a15",
   "metadata": {
    "papermill": {
     "duration": 0.00637,
     "end_time": "2024-10-17T05:33:34.962717",
     "exception": false,
     "start_time": "2024-10-17T05:33:34.956347",
     "status": "completed"
    },
    "tags": []
   },
   "source": [
    "# EDA\n",
    "\n",
    "### Features\n",
    "- `person_age`: Applicant’s age in years.\n",
    "- `person_income`: Annual income of the applicant in USD.\n",
    "- `person_home_ownership`: Status of homeownership (Categorical).\n",
    "- `person_emp_length`: Length of employment in years.\n",
    "- `loan_intent`: Purpose of the loan (Categorical).\n",
    "- `loan_grade`: Risk grade assigned to the loan, assessing the applicant’s creditworthiness.\n",
    "- `loan_amnt`: Total loan amount **requested** by the applicant.\n",
    "- `loan_int_rate`: Interest rate associated with the loan.\n",
    "- `loan_status`: The **approval status** of the loan.\n",
    "- `loan_percent_income`: Percentage of the applicant’s income allocated towards loan repayment.\n",
    "- `cb_person_default_on_file`: Indicates if the applicant has a history of default.\n",
    "- `cb_person_cred_hist_length`: Length of the applicant’s credit history in  years.\n",
    "\n",
    "### Hypothesis\n",
    "**Needs to be organized**\n",
    "> 1. Purpose of the loan does **NOT** influence the loan status.\n",
    "> 2. Easily available for loans at the applicant's **MOST employable age** group.\n",
    "> 3. Loan grade **MAY** the characteristic Feature that has the greatest impact on the loan status.\n",
    "> 4. Loan grade 연관 있는 Feature들 (`cb_person_default_on_file`, `cb_person_cred_hist_length`, `loan_percent_income`, `loan_amnt`,`...` what else?)\n",
    "> 5. 이자율과 다른 Feature과의 관계? (~Loan grade?)\n",
    "> 6. \n",
    "\n",
    "### Analysis Plan\n",
    "**Needs to be organized**\n",
    "- `loan_status` ~ `person_age`+`person_income`+`person_emp_length`\n",
    "- `loan_int_rate` ~ `loan_grade` (+`loan_amnt`?)\n",
    "- `loan_status`~`loan_amnt`\n",
    "- `loan_status`~`person_income` + `loan_int_rate`\n"
   ]
  },
  {
   "cell_type": "code",
   "execution_count": 4,
   "id": "ed244377",
   "metadata": {
    "execution": {
     "iopub.execute_input": "2024-10-17T05:33:34.979265Z",
     "iopub.status.busy": "2024-10-17T05:33:34.978390Z",
     "iopub.status.idle": "2024-10-17T05:33:34.983281Z",
     "shell.execute_reply": "2024-10-17T05:33:34.982152Z"
    },
    "papermill": {
     "duration": 0.015139,
     "end_time": "2024-10-17T05:33:34.985514",
     "exception": false,
     "start_time": "2024-10-17T05:33:34.970375",
     "status": "completed"
    },
    "tags": []
   },
   "outputs": [],
   "source": [
    "# Linear Modeling\n"
   ]
  },
  {
   "cell_type": "markdown",
   "id": "e950488b",
   "metadata": {
    "papermill": {
     "duration": 0.006502,
     "end_time": "2024-10-17T05:33:34.998976",
     "exception": false,
     "start_time": "2024-10-17T05:33:34.992474",
     "status": "completed"
    },
    "tags": []
   },
   "source": [
    "# Preprocessing"
   ]
  },
  {
   "cell_type": "code",
   "execution_count": 5,
   "id": "c9505a2c",
   "metadata": {
    "execution": {
     "iopub.execute_input": "2024-10-17T05:33:35.014900Z",
     "iopub.status.busy": "2024-10-17T05:33:35.013962Z",
     "iopub.status.idle": "2024-10-17T05:33:35.041779Z",
     "shell.execute_reply": "2024-10-17T05:33:35.040782Z"
    },
    "papermill": {
     "duration": 0.038521,
     "end_time": "2024-10-17T05:33:35.044400",
     "exception": false,
     "start_time": "2024-10-17T05:33:35.005879",
     "status": "completed"
    },
    "tags": []
   },
   "outputs": [],
   "source": [
    "# backup for dataset's idx\n",
    "train_idx = train['id']\n",
    "test_idx = test['id']\n",
    "\n",
    "# remove its idx\n",
    "train = train.drop(columns=['id'])\n",
    "test = test.drop(columns=['id'])\n",
    "\n",
    "# separate the target\n",
    "y = train['loan_status']  # target\n",
    "X = train.drop('loan_status', axis=1)"
   ]
  },
  {
   "cell_type": "markdown",
   "id": "d0814b18",
   "metadata": {
    "papermill": {
     "duration": 0.006465,
     "end_time": "2024-10-17T05:33:35.057716",
     "exception": false,
     "start_time": "2024-10-17T05:33:35.051251",
     "status": "completed"
    },
    "tags": []
   },
   "source": [
    "# Train Model"
   ]
  },
  {
   "cell_type": "code",
   "execution_count": 6,
   "id": "d8c6d010",
   "metadata": {
    "execution": {
     "iopub.execute_input": "2024-10-17T05:33:35.073346Z",
     "iopub.status.busy": "2024-10-17T05:33:35.072459Z",
     "iopub.status.idle": "2024-10-17T05:33:35.126589Z",
     "shell.execute_reply": "2024-10-17T05:33:35.125599Z"
    },
    "papermill": {
     "duration": 0.064853,
     "end_time": "2024-10-17T05:33:35.129318",
     "exception": false,
     "start_time": "2024-10-17T05:33:35.064465",
     "status": "completed"
    },
    "tags": []
   },
   "outputs": [],
   "source": [
    "# set train and eval data 9:1\n",
    "X_train, X_val, y_train, y_val = train_test_split(X, y, test_size=0.1, random_state=142, stratify=y)\n",
    "\n",
    "# column types\n",
    "categorical_cols = ['person_home_ownership', 'loan_intent', 'loan_grade', 'cb_person_default_on_file']\n",
    "numerical_cols = [col for col in X.columns if col not in categorical_cols]\n",
    "\n",
    "# ...\n",
    "remove_strings = ['person_age']\n",
    "numerical_cols = [item for item in numerical_cols if item not in remove_strings]\n",
    "\n",
    "# Preprocessor Pipeline\n",
    "preprocessor = ColumnTransformer(\n",
    "    transformers=[\n",
    "        ('num', StandardScaler(), numerical_cols),  # 수치형 컬럼에 대해 StandardScaler 적용\n",
    "        # ('cat', OrdinalEncoder(), categorical_cols)  # 범주형 컬럼에 대해 OrdinalEncoder 적용 0.88\n",
    "         ('cat', OneHotEncoder(drop='first'), categorical_cols)  # 범주형 컬럼에 대해 OneHotEncoder 적용\n",
    "    ]\n",
    ")"
   ]
  },
  {
   "cell_type": "code",
   "execution_count": 7,
   "id": "d49afd87",
   "metadata": {
    "execution": {
     "iopub.execute_input": "2024-10-17T05:33:35.144945Z",
     "iopub.status.busy": "2024-10-17T05:33:35.144171Z",
     "iopub.status.idle": "2024-10-17T05:33:35.149454Z",
     "shell.execute_reply": "2024-10-17T05:33:35.148430Z"
    },
    "papermill": {
     "duration": 0.015485,
     "end_time": "2024-10-17T05:33:35.151673",
     "exception": false,
     "start_time": "2024-10-17T05:33:35.136188",
     "status": "completed"
    },
    "tags": []
   },
   "outputs": [],
   "source": [
    "# Logistic Linear (Classification)\n",
    "logistic_pipeline = make_pipeline(\n",
    "    preprocessor,\n",
    "    LogisticRegression(solver='liblinear') # {'newton-cg', 'lbfgs', 'liblinear', 'sag', 'saga'}\n",
    ")"
   ]
  },
  {
   "cell_type": "code",
   "execution_count": 8,
   "id": "24b87154",
   "metadata": {
    "execution": {
     "iopub.execute_input": "2024-10-17T05:33:35.167177Z",
     "iopub.status.busy": "2024-10-17T05:33:35.166499Z",
     "iopub.status.idle": "2024-10-17T05:33:35.174341Z",
     "shell.execute_reply": "2024-10-17T05:33:35.173338Z"
    },
    "papermill": {
     "duration": 0.018556,
     "end_time": "2024-10-17T05:33:35.176930",
     "exception": false,
     "start_time": "2024-10-17T05:33:35.158374",
     "status": "completed"
    },
    "tags": []
   },
   "outputs": [],
   "source": [
    "# Hyperparameter tuning (ROC-AUC)\n",
    "## nomalize\n",
    "param_distributions = {\n",
    "    'logisticregression__C': uniform(0.001, 1000),  # uniform(0.01, 10)\n",
    "    'logisticregression__penalty': ['l1', 'l2', 'elaticnet', 'none'] #  {'l1', 'l2', 'elasticnet', 'none'}\n",
    "}\n",
    "\n",
    "## Random Search\n",
    "random_search = RandomizedSearchCV(\n",
    "    logistic_pipeline, \n",
    "    param_distributions, \n",
    "    n_iter=1000, \n",
    "    cv=5, # cross validation folds\n",
    "    random_state=42, #\n",
    "    n_jobs=-1, # ram core -1: use all\n",
    "    scoring='roc_auc'  # ROC-AUC를 기준으로 스코어링\n",
    ")\n",
    "\n",
    "# ## Grid Search\n",
    "# grid_search = GridSearchCV(\n",
    "#     logistic_pipeline,\n",
    "#     param_grid=\n",
    "#     {\n",
    "#     'logisticregression__C': [0.01, 0.1, 1, 5, 8, 10],  # uniform(0.01, 10)\n",
    "#     'logisticregression__penalty': ['l1', 'l2'] \n",
    "# },\n",
    "#     cv=5,\n",
    "#     scoring='roc_auc'\n",
    "# )\n"
   ]
  },
  {
   "cell_type": "code",
   "execution_count": 9,
   "id": "28da9f52",
   "metadata": {
    "execution": {
     "iopub.execute_input": "2024-10-17T05:33:35.193178Z",
     "iopub.status.busy": "2024-10-17T05:33:35.192271Z",
     "iopub.status.idle": "2024-10-17T05:45:36.255107Z",
     "shell.execute_reply": "2024-10-17T05:45:36.253321Z"
    },
    "papermill": {
     "duration": 721.07547,
     "end_time": "2024-10-17T05:45:36.259341",
     "exception": false,
     "start_time": "2024-10-17T05:33:35.183871",
     "status": "completed"
    },
    "tags": []
   },
   "outputs": [
    {
     "name": "stderr",
     "output_type": "stream",
     "text": [
      "/opt/conda/lib/python3.10/site-packages/sklearn/model_selection/_validation.py:378: FitFailedWarning: \n",
      "2435 fits failed out of a total of 5000.\n",
      "The score on these train-test partitions for these parameters will be set to nan.\n",
      "If these failures are not expected, you can try to debug them by setting error_score='raise'.\n",
      "\n",
      "Below are more details about the failures:\n",
      "--------------------------------------------------------------------------------\n",
      "1285 fits failed with the following error:\n",
      "Traceback (most recent call last):\n",
      "  File \"/opt/conda/lib/python3.10/site-packages/sklearn/model_selection/_validation.py\", line 686, in _fit_and_score\n",
      "    estimator.fit(X_train, y_train, **fit_params)\n",
      "  File \"/opt/conda/lib/python3.10/site-packages/sklearn/pipeline.py\", line 405, in fit\n",
      "    self._final_estimator.fit(Xt, y, **fit_params_last_step)\n",
      "  File \"/opt/conda/lib/python3.10/site-packages/sklearn/linear_model/_logistic.py\", line 1162, in fit\n",
      "    solver = _check_solver(self.solver, self.penalty, self.dual)\n",
      "  File \"/opt/conda/lib/python3.10/site-packages/sklearn/linear_model/_logistic.py\", line 71, in _check_solver\n",
      "    raise ValueError(\"penalty='none' is not supported for the liblinear solver\")\n",
      "ValueError: penalty='none' is not supported for the liblinear solver\n",
      "\n",
      "--------------------------------------------------------------------------------\n",
      "298 fits failed with the following error:\n",
      "Traceback (most recent call last):\n",
      "  File \"/opt/conda/lib/python3.10/site-packages/sklearn/model_selection/_validation.py\", line 686, in _fit_and_score\n",
      "    estimator.fit(X_train, y_train, **fit_params)\n",
      "  File \"/opt/conda/lib/python3.10/site-packages/sklearn/pipeline.py\", line 405, in fit\n",
      "    self._final_estimator.fit(Xt, y, **fit_params_last_step)\n",
      "  File \"/opt/conda/lib/python3.10/site-packages/sklearn/linear_model/_logistic.py\", line 1160, in fit\n",
      "    self._validate_params()\n",
      "  File \"/opt/conda/lib/python3.10/site-packages/sklearn/base.py\", line 600, in _validate_params\n",
      "    validate_parameter_constraints(\n",
      "  File \"/opt/conda/lib/python3.10/site-packages/sklearn/utils/_param_validation.py\", line 97, in validate_parameter_constraints\n",
      "    raise InvalidParameterError(\n",
      "sklearn.utils._param_validation.InvalidParameterError: The 'penalty' parameter of LogisticRegression must be a str among {'none' (deprecated), 'l2', 'elasticnet', 'l1'} or None. Got 'elaticnet' instead.\n",
      "\n",
      "--------------------------------------------------------------------------------\n",
      "566 fits failed with the following error:\n",
      "Traceback (most recent call last):\n",
      "  File \"/opt/conda/lib/python3.10/site-packages/sklearn/model_selection/_validation.py\", line 686, in _fit_and_score\n",
      "    estimator.fit(X_train, y_train, **fit_params)\n",
      "  File \"/opt/conda/lib/python3.10/site-packages/sklearn/pipeline.py\", line 405, in fit\n",
      "    self._final_estimator.fit(Xt, y, **fit_params_last_step)\n",
      "  File \"/opt/conda/lib/python3.10/site-packages/sklearn/linear_model/_logistic.py\", line 1160, in fit\n",
      "    self._validate_params()\n",
      "  File \"/opt/conda/lib/python3.10/site-packages/sklearn/base.py\", line 600, in _validate_params\n",
      "    validate_parameter_constraints(\n",
      "  File \"/opt/conda/lib/python3.10/site-packages/sklearn/utils/_param_validation.py\", line 97, in validate_parameter_constraints\n",
      "    raise InvalidParameterError(\n",
      "sklearn.utils._param_validation.InvalidParameterError: The 'penalty' parameter of LogisticRegression must be a str among {'l1', 'none' (deprecated), 'elasticnet', 'l2'} or None. Got 'elaticnet' instead.\n",
      "\n",
      "--------------------------------------------------------------------------------\n",
      "286 fits failed with the following error:\n",
      "Traceback (most recent call last):\n",
      "  File \"/opt/conda/lib/python3.10/site-packages/sklearn/model_selection/_validation.py\", line 686, in _fit_and_score\n",
      "    estimator.fit(X_train, y_train, **fit_params)\n",
      "  File \"/opt/conda/lib/python3.10/site-packages/sklearn/pipeline.py\", line 405, in fit\n",
      "    self._final_estimator.fit(Xt, y, **fit_params_last_step)\n",
      "  File \"/opt/conda/lib/python3.10/site-packages/sklearn/linear_model/_logistic.py\", line 1160, in fit\n",
      "    self._validate_params()\n",
      "  File \"/opt/conda/lib/python3.10/site-packages/sklearn/base.py\", line 600, in _validate_params\n",
      "    validate_parameter_constraints(\n",
      "  File \"/opt/conda/lib/python3.10/site-packages/sklearn/utils/_param_validation.py\", line 97, in validate_parameter_constraints\n",
      "    raise InvalidParameterError(\n",
      "sklearn.utils._param_validation.InvalidParameterError: The 'penalty' parameter of LogisticRegression must be a str among {'none' (deprecated), 'l1', 'l2', 'elasticnet'} or None. Got 'elaticnet' instead.\n",
      "\n",
      "  warnings.warn(some_fits_failed_message, FitFailedWarning)\n",
      "/opt/conda/lib/python3.10/site-packages/sklearn/model_selection/_search.py:952: UserWarning: One or more of the test scores are non-finite: [0.90165662        nan        nan        nan        nan        nan\n",
      " 0.90165537        nan 0.90165508        nan        nan 0.90165599\n",
      " 0.90165639        nan        nan        nan        nan        nan\n",
      "        nan 0.90165601 0.90165603 0.90165578        nan 0.90165526\n",
      " 0.90165631        nan        nan        nan 0.90165939 0.9016559\n",
      " 0.90165502 0.90165577 0.90165517 0.90165918 0.9016553         nan\n",
      "        nan 0.90165592 0.90165609 0.90165592 0.90165545        nan\n",
      "        nan 0.90165615        nan 0.90165578        nan        nan\n",
      "        nan        nan 0.90165605 0.90165493 0.9016562  0.90165642\n",
      " 0.90165489        nan        nan        nan        nan        nan\n",
      " 0.90165656 0.90165606        nan        nan        nan        nan\n",
      "        nan 0.90165601        nan 0.90165631 0.90165606 0.90165546\n",
      "        nan        nan 0.90165631 0.90165534 0.90165504        nan\n",
      " 0.9016563         nan        nan 0.90165596 0.90165576 0.90165626\n",
      " 0.90165652 0.90165596 0.90165599 0.90165648        nan        nan\n",
      "        nan        nan 0.90165603        nan 0.90165601 0.90165615\n",
      " 0.90165645 0.90165568 0.90165501        nan        nan 0.90165634\n",
      "        nan        nan        nan 0.90165652        nan 0.90165549\n",
      "        nan        nan        nan        nan        nan        nan\n",
      "        nan        nan        nan        nan 0.90165545        nan\n",
      " 0.90165708        nan        nan        nan 0.90165573 0.90165621\n",
      "        nan 0.90165623        nan 0.90165618        nan        nan\n",
      "        nan        nan        nan        nan        nan 0.90165626\n",
      " 0.9016562  0.90165592 0.90165561 0.90165568 0.90165628 0.9016631\n",
      "        nan        nan 0.90165658        nan        nan 0.90165542\n",
      " 0.90165645        nan        nan 0.90165599        nan 0.90165599\n",
      " 0.9016559         nan 0.90165771        nan 0.90165636 0.9016562\n",
      " 0.90165615 0.90165628 0.90165615        nan        nan        nan\n",
      "        nan 0.90165545        nan        nan        nan        nan\n",
      " 0.90165562 0.90165583 0.90165618 0.9016562         nan 0.90165546\n",
      "        nan        nan 0.90165496        nan 0.90165559 0.90165728\n",
      "        nan        nan 0.90165602        nan 0.9016569  0.90165615\n",
      " 0.90165567 0.90165596 0.90165908        nan 0.90165631        nan\n",
      " 0.90165649 0.90165595        nan        nan        nan 0.90165615\n",
      " 0.90165546        nan        nan 0.90165526 0.90165781        nan\n",
      " 0.90165651 0.90165711 0.90165658 0.90165596        nan 0.9016559\n",
      "        nan 0.90165643        nan 0.90165742 0.90165592 0.90165603\n",
      " 0.90165674 0.9016569         nan        nan        nan        nan\n",
      " 0.90165643 0.90165537 0.90165617        nan 0.90165555        nan\n",
      " 0.90165611        nan        nan        nan        nan        nan\n",
      "        nan 0.90165608 0.90165639 0.90165598 0.90165533 0.90165624\n",
      "        nan 0.90165684        nan 0.90165573 0.9016558  0.90165526\n",
      " 0.90165546 0.90165533 0.90165636        nan 0.90165623        nan\n",
      " 0.90165645        nan        nan 0.9016557         nan        nan\n",
      " 0.90165571        nan 0.90165692 0.90165617        nan 0.90165631\n",
      " 0.90165627 0.90165677        nan        nan        nan 0.90165553\n",
      " 0.90165584        nan        nan 0.90165581 0.90165617 0.90165627\n",
      "        nan 0.90165504        nan        nan        nan 0.90165536\n",
      " 0.9016558  0.90165533 0.90165521        nan 0.90165599 0.90165546\n",
      "        nan 0.90165492        nan 0.90165593 0.90165501        nan\n",
      " 0.90165539 0.90165548        nan 0.9016559         nan        nan\n",
      " 0.90165576        nan 0.90165606 0.90165608 0.9016564  0.90165587\n",
      " 0.90165615 0.90165693 0.90165608        nan        nan        nan\n",
      "        nan        nan 0.9016553  0.90165634 0.90165556        nan\n",
      "        nan        nan        nan 0.90165549        nan        nan\n",
      " 0.90165602 0.90165646        nan        nan 0.90165634 0.90165636\n",
      " 0.90165586        nan 0.90165531 0.90165652 0.9016553  0.90165706\n",
      " 0.90165562        nan 0.90165589        nan 0.90165595 0.9016563\n",
      "        nan 0.90165627        nan 0.90165614 0.90165753 0.90165674\n",
      " 0.90165523        nan 0.9016562         nan 0.9016558  0.90165634\n",
      " 0.90165578 0.90165661        nan        nan 0.90165674 0.90165492\n",
      "        nan 0.90165595 0.90165612        nan        nan        nan\n",
      " 0.90165617        nan 0.90165601 0.90165508 0.90165601        nan\n",
      "        nan 0.90165661        nan 0.90165527        nan 0.90165624\n",
      "        nan 0.90165605        nan 0.90165742 0.90165664        nan\n",
      "        nan        nan        nan        nan        nan 0.90165702\n",
      "        nan        nan 0.90165656 0.90165624        nan 0.90165571\n",
      " 0.90165618        nan 0.90165573 0.90165637 0.90165573        nan\n",
      "        nan        nan 0.90165628        nan 0.90165627        nan\n",
      "        nan 0.90165509        nan 0.90165521 0.90165555        nan\n",
      "        nan        nan 0.90165552 0.90165531        nan        nan\n",
      " 0.90165565 0.9016559  0.90165578 0.90165614        nan 0.90165574\n",
      " 0.90165601        nan 0.90165521        nan        nan 0.9016564\n",
      " 0.9016557         nan 0.90165593 0.90165637 0.90165577 0.90165592\n",
      "        nan 0.90165504        nan 0.90165661        nan 0.90165833\n",
      "        nan        nan        nan 0.90167923        nan 0.90165546\n",
      "        nan 0.9016553         nan 0.9016559         nan        nan\n",
      "        nan 0.90165533 0.90165606        nan        nan 0.90165574\n",
      " 0.90165601 0.90165533 0.90165593        nan 0.90165655 0.90167611\n",
      "        nan        nan 0.90165684        nan 0.90165529        nan\n",
      "        nan 0.90165642 0.90165546 0.9016568  0.90165617        nan\n",
      " 0.90165627        nan 0.9016554  0.90165645 0.90165612        nan\n",
      " 0.90165556 0.90165602        nan 0.90165599 0.90165605 0.90165581\n",
      "        nan        nan 0.9016567         nan        nan        nan\n",
      "        nan        nan 0.90165509 0.90165608        nan        nan\n",
      " 0.90165504 0.90165537 0.90165589        nan        nan        nan\n",
      " 0.90165599        nan 0.90165512        nan        nan        nan\n",
      "        nan        nan        nan 0.90165587        nan        nan\n",
      " 0.90165618        nan        nan        nan        nan        nan\n",
      "        nan 0.90165578 0.90165617 0.90165621        nan 0.90165571\n",
      " 0.90165511        nan        nan        nan 0.9016562  0.90165598\n",
      "        nan 0.90165518        nan 0.90165577 0.90165526        nan\n",
      " 0.90165599        nan        nan 0.90165659 0.90165543 0.90165756\n",
      "        nan 0.90165605 0.90166046 0.90165586 0.90165655 0.90165562\n",
      " 0.90165645        nan 0.90165568        nan        nan 0.90165568\n",
      " 0.90165606        nan 0.9016559         nan 0.90165548 0.90165659\n",
      " 0.90165567        nan 0.9016563         nan 0.90165556 0.90165527\n",
      "        nan        nan 0.90165583 0.90165561        nan        nan\n",
      " 0.90166165 0.90165695 0.90165621        nan        nan        nan\n",
      "        nan        nan 0.90165681        nan        nan 0.90165649\n",
      "        nan        nan        nan 0.90165655        nan        nan\n",
      "        nan        nan 0.90165523 0.9016552         nan 0.90165587\n",
      "        nan 0.90165683 0.90165556        nan        nan 0.90165539\n",
      " 0.90165618 0.90165602        nan 0.9016558  0.90165589 0.90165624\n",
      " 0.90166269 0.90165539 0.90165558 0.90165671 0.90165549 0.90165612\n",
      " 0.90166087        nan        nan 0.90165653        nan 0.90165608\n",
      "        nan 0.90165543        nan 0.90165631        nan 0.90165643\n",
      "        nan        nan        nan 0.90165504        nan 0.90165526\n",
      " 0.90165596        nan        nan 0.90165643 0.90165581 0.90165628\n",
      " 0.90165617        nan 0.90165606        nan        nan 0.90165721\n",
      "        nan 0.90165527        nan        nan 0.90165639 0.90165601\n",
      "        nan        nan        nan 0.90165673 0.90165523        nan\n",
      " 0.90165592        nan 0.90165618        nan        nan 0.90165517\n",
      " 0.9016554         nan 0.9016563         nan        nan        nan\n",
      "        nan        nan 0.9016569         nan        nan        nan\n",
      "        nan        nan        nan        nan 0.90165617 0.90165627\n",
      " 0.90165486 0.90165555 0.90166066        nan 0.90165617        nan\n",
      "        nan 0.90166194 0.90165634        nan        nan 0.90165642\n",
      " 0.90165652        nan 0.90165499 0.90167289 0.9016559  0.90165534\n",
      " 0.90165656 0.90165603 0.90165611 0.90165587        nan 0.9016563\n",
      "        nan        nan 0.90165518 0.90165553 0.90165626        nan\n",
      "        nan 0.90165505 0.90165614        nan 0.9016563  0.90165925\n",
      " 0.90165495 0.90165531 0.90165621        nan 0.90165624        nan\n",
      " 0.90165553        nan 0.90165486 0.90165626 0.90165615 0.90165646\n",
      " 0.90165581        nan 0.90165621 0.90165717 0.90165623 0.90165608\n",
      "        nan        nan        nan        nan 0.90165524        nan\n",
      " 0.90165592 0.9016549         nan        nan        nan        nan\n",
      " 0.90165592        nan        nan        nan 0.90165562 0.90165662\n",
      " 0.90165537        nan        nan 0.90165668        nan 0.90165515\n",
      "        nan        nan        nan 0.90165621        nan 0.9016564\n",
      " 0.9016568         nan        nan 0.90166321 0.90165529        nan\n",
      "        nan        nan 0.90165529 0.90165492        nan        nan\n",
      " 0.90165615 0.90165626 0.90165599        nan 0.90165725        nan\n",
      "        nan        nan        nan 0.90165637        nan        nan\n",
      " 0.90165549 0.90165653 0.90165686 0.90165589        nan        nan\n",
      " 0.90165603        nan        nan 0.90165527        nan        nan\n",
      "        nan        nan        nan 0.90165583        nan        nan\n",
      " 0.90165748 0.9016553         nan        nan 0.90165649        nan\n",
      " 0.9016557         nan        nan        nan        nan        nan\n",
      " 0.90165553 0.90165536        nan        nan        nan 0.90165618\n",
      "        nan        nan        nan 0.90165553 0.90165587 0.90165529\n",
      " 0.90165653        nan        nan        nan 0.90165539 0.90165702\n",
      "        nan        nan 0.9016554  0.90165551 0.9016558  0.9016567\n",
      " 0.90165624 0.90165529 0.90165551 0.90165504 0.90165543 0.9016553\n",
      " 0.90165611 0.90165649 0.90165518 0.90165592        nan        nan\n",
      " 0.90165515        nan        nan        nan        nan 0.90165534\n",
      "        nan        nan        nan        nan 0.90165573        nan\n",
      "        nan 0.90165631        nan        nan 0.90165495        nan\n",
      "        nan        nan 0.90165534 0.90165577        nan        nan\n",
      " 0.90165553 0.90165502        nan        nan        nan 0.90165542\n",
      "        nan 0.90165517        nan        nan 0.90165517        nan\n",
      " 0.90165548        nan        nan 0.90165648        nan 0.90165546\n",
      "        nan 0.90165555 0.90165634 0.90165646        nan 0.90165555\n",
      " 0.90165643        nan        nan        nan 0.90165617 0.90166312\n",
      "        nan        nan        nan 0.90165514 0.90165636        nan\n",
      " 0.90165631        nan 0.90165675 0.90165602 0.90165624        nan\n",
      " 0.90165537        nan        nan 0.90165526 0.90165617 0.90165924\n",
      "        nan 0.90165609        nan 0.90165609 0.90165674        nan\n",
      " 0.90165793 0.90165552        nan 0.90165936 0.90165652        nan\n",
      " 0.90165526 0.90165584        nan        nan 0.90165555        nan\n",
      " 0.90165601 0.90165623 0.90165601        nan        nan        nan\n",
      " 0.90165531 0.90165628        nan        nan 0.90165533 0.90165643\n",
      "        nan        nan 0.90165493 0.90165583 0.90165542 0.90165627\n",
      "        nan 0.90165577 0.90165628 0.90165689 0.90165573        nan\n",
      " 0.90165514        nan        nan 0.90165534 0.90165559 0.90165611\n",
      "        nan        nan 0.90165609        nan        nan        nan\n",
      " 0.90165542 0.90165496        nan        nan]\n",
      "  warnings.warn(\n"
     ]
    }
   ],
   "source": [
    "# fit model\n",
    "random_search.fit(X_train, y_train)\n",
    "# grid_search.fit(X_train, y_train)\n",
    "\n",
    "# get probs (Validation)\n",
    "y_val_probs_rs = random_search.predict_proba(X_val)[:, 1] \n",
    "# y_val_probs_gs = grid_search.predict_proba(X_val)[:, 1]"
   ]
  },
  {
   "cell_type": "code",
   "execution_count": 10,
   "id": "a6da2146",
   "metadata": {
    "execution": {
     "iopub.execute_input": "2024-10-17T05:45:36.293647Z",
     "iopub.status.busy": "2024-10-17T05:45:36.291965Z",
     "iopub.status.idle": "2024-10-17T05:45:36.830875Z",
     "shell.execute_reply": "2024-10-17T05:45:36.829951Z"
    },
    "papermill": {
     "duration": 0.558879,
     "end_time": "2024-10-17T05:45:36.833371",
     "exception": false,
     "start_time": "2024-10-17T05:45:36.274492",
     "status": "completed"
    },
    "tags": []
   },
   "outputs": [
    {
     "name": "stdout",
     "output_type": "stream",
     "text": [
      "ROC-AUC 점수: 0.9048\n"
     ]
    },
    {
     "data": {
      "image/png": "[encoded data removed]",
      "text/plain": [
       "<Figure size 640x480 with 2 Axes>"
      ]
     },
     "metadata": {},
     "output_type": "display_data"
    }
   ],
   "source": [
    "# ROC-AUC scores\n",
    "roc_auc = roc_auc_score(y_val, y_val_probs_rs)\n",
    "print(f'ROC-AUC 점수: {roc_auc:.4f}')\n",
    "\n",
    "# ROC\n",
    "fpr, tpr, thresholds = roc_curve(y_val, y_val_probs_rs)\n",
    "\n",
    "fig, ax = plt.subplots()\n",
    "ax.plot(fpr, tpr, color='blue', label=f'ROC Curve (AUC = {roc_auc:.4f})')\n",
    "ax.plot([0, 1], [0, 1], color='red', linestyle='--')  # 랜덤 추측선\n",
    "ax.set_xlabel('False Positive Rate (FPR)')  # 위양성 비율\n",
    "ax.set_ylabel('True Positive Rate (TPR)')  # 진양성 비율\n",
    "ax.set_title('ROC Curve')\n",
    "ax.legend(loc='lower right')\n",
    "ax.grid(False)\n",
    "\n",
    "# Predict(Validation)\n",
    "y_val_preds = random_search.best_estimator_.predict(X_val)\n",
    "\n",
    "# 혼동 행렬 계산\n",
    "cm = confusion_matrix(y_val, y_val_preds)\n",
    "\n",
    "# ROC 곡선 안에 혼동 행렬 삽입\n",
    "ax_inset = inset_axes(ax, width=\"30%\", height=\"30%\", loc=\"center right\")  # 위치 조정 가능\n",
    "ConfusionMatrixDisplay(cm).plot(ax=ax_inset, colorbar=False)\n",
    "ax_inset.grid(False)  # 혼동 행렬에 그리드 제거\n",
    "ax_inset.set_title('Confusion Matrix')  # 작은 창에 제목 추가\n",
    "\n",
    "# 그래프 보여주기\n",
    "plt.show()\n",
    "\n",
    "# 테스트 데이터 예측 및 제출 파일 저장\n",
    "test = test.loc[:, categorical_cols + numerical_cols]\n",
    "now = datetime.now()"
   ]
  },
  {
   "cell_type": "code",
   "execution_count": 11,
   "id": "e3ffd29c",
   "metadata": {
    "execution": {
     "iopub.execute_input": "2024-10-17T05:45:36.852363Z",
     "iopub.status.busy": "2024-10-17T05:45:36.851173Z",
     "iopub.status.idle": "2024-10-17T05:45:36.879315Z",
     "shell.execute_reply": "2024-10-17T05:45:36.878197Z"
    },
    "papermill": {
     "duration": 0.040398,
     "end_time": "2024-10-17T05:45:36.882160",
     "exception": false,
     "start_time": "2024-10-17T05:45:36.841762",
     "status": "completed"
    },
    "tags": []
   },
   "outputs": [
    {
     "data": {
      "text/html": [
       "<div>\n",
       "<style scoped>\n",
       "    .dataframe tbody tr th:only-of-type {\n",
       "        vertical-align: middle;\n",
       "    }\n",
       "\n",
       "    .dataframe tbody tr th {\n",
       "        vertical-align: top;\n",
       "    }\n",
       "\n",
       "    .dataframe thead th {\n",
       "        text-align: right;\n",
       "    }\n",
       "</style>\n",
       "<table border=\"1\" class=\"dataframe\">\n",
       "  <thead>\n",
       "    <tr style=\"text-align: right;\">\n",
       "      <th></th>\n",
       "      <th>person_home_ownership</th>\n",
       "      <th>loan_intent</th>\n",
       "      <th>loan_grade</th>\n",
       "      <th>cb_person_default_on_file</th>\n",
       "      <th>person_income</th>\n",
       "      <th>person_emp_length</th>\n",
       "      <th>loan_amnt</th>\n",
       "      <th>loan_int_rate</th>\n",
       "      <th>loan_percent_income</th>\n",
       "      <th>cb_person_cred_hist_length</th>\n",
       "    </tr>\n",
       "  </thead>\n",
       "  <tbody>\n",
       "    <tr>\n",
       "      <th>0</th>\n",
       "      <td>RENT</td>\n",
       "      <td>HOMEIMPROVEMENT</td>\n",
       "      <td>F</td>\n",
       "      <td>N</td>\n",
       "      <td>69000</td>\n",
       "      <td>3.0</td>\n",
       "      <td>25000</td>\n",
       "      <td>15.76</td>\n",
       "      <td>0.36</td>\n",
       "      <td>2</td>\n",
       "    </tr>\n",
       "    <tr>\n",
       "      <th>1</th>\n",
       "      <td>MORTGAGE</td>\n",
       "      <td>PERSONAL</td>\n",
       "      <td>C</td>\n",
       "      <td>Y</td>\n",
       "      <td>96000</td>\n",
       "      <td>6.0</td>\n",
       "      <td>10000</td>\n",
       "      <td>12.68</td>\n",
       "      <td>0.10</td>\n",
       "      <td>4</td>\n",
       "    </tr>\n",
       "    <tr>\n",
       "      <th>2</th>\n",
       "      <td>RENT</td>\n",
       "      <td>VENTURE</td>\n",
       "      <td>E</td>\n",
       "      <td>Y</td>\n",
       "      <td>30000</td>\n",
       "      <td>5.0</td>\n",
       "      <td>4000</td>\n",
       "      <td>17.19</td>\n",
       "      <td>0.13</td>\n",
       "      <td>2</td>\n",
       "    </tr>\n",
       "    <tr>\n",
       "      <th>3</th>\n",
       "      <td>RENT</td>\n",
       "      <td>DEBTCONSOLIDATION</td>\n",
       "      <td>A</td>\n",
       "      <td>N</td>\n",
       "      <td>50000</td>\n",
       "      <td>4.0</td>\n",
       "      <td>7000</td>\n",
       "      <td>8.90</td>\n",
       "      <td>0.14</td>\n",
       "      <td>7</td>\n",
       "    </tr>\n",
       "    <tr>\n",
       "      <th>4</th>\n",
       "      <td>MORTGAGE</td>\n",
       "      <td>HOMEIMPROVEMENT</td>\n",
       "      <td>D</td>\n",
       "      <td>Y</td>\n",
       "      <td>102000</td>\n",
       "      <td>8.0</td>\n",
       "      <td>15000</td>\n",
       "      <td>16.32</td>\n",
       "      <td>0.15</td>\n",
       "      <td>4</td>\n",
       "    </tr>\n",
       "    <tr>\n",
       "      <th>...</th>\n",
       "      <td>...</td>\n",
       "      <td>...</td>\n",
       "      <td>...</td>\n",
       "      <td>...</td>\n",
       "      <td>...</td>\n",
       "      <td>...</td>\n",
       "      <td>...</td>\n",
       "      <td>...</td>\n",
       "      <td>...</td>\n",
       "      <td>...</td>\n",
       "    </tr>\n",
       "    <tr>\n",
       "      <th>39093</th>\n",
       "      <td>MORTGAGE</td>\n",
       "      <td>DEBTCONSOLIDATION</td>\n",
       "      <td>B</td>\n",
       "      <td>N</td>\n",
       "      <td>31200</td>\n",
       "      <td>2.0</td>\n",
       "      <td>3000</td>\n",
       "      <td>10.37</td>\n",
       "      <td>0.10</td>\n",
       "      <td>4</td>\n",
       "    </tr>\n",
       "    <tr>\n",
       "      <th>39094</th>\n",
       "      <td>MORTGAGE</td>\n",
       "      <td>EDUCATION</td>\n",
       "      <td>A</td>\n",
       "      <td>N</td>\n",
       "      <td>48000</td>\n",
       "      <td>6.0</td>\n",
       "      <td>7000</td>\n",
       "      <td>6.03</td>\n",
       "      <td>0.15</td>\n",
       "      <td>3</td>\n",
       "    </tr>\n",
       "    <tr>\n",
       "      <th>39095</th>\n",
       "      <td>MORTGAGE</td>\n",
       "      <td>PERSONAL</td>\n",
       "      <td>A</td>\n",
       "      <td>N</td>\n",
       "      <td>60000</td>\n",
       "      <td>0.0</td>\n",
       "      <td>15000</td>\n",
       "      <td>7.51</td>\n",
       "      <td>0.25</td>\n",
       "      <td>25</td>\n",
       "    </tr>\n",
       "    <tr>\n",
       "      <th>39096</th>\n",
       "      <td>MORTGAGE</td>\n",
       "      <td>PERSONAL</td>\n",
       "      <td>D</td>\n",
       "      <td>Y</td>\n",
       "      <td>36000</td>\n",
       "      <td>4.0</td>\n",
       "      <td>14000</td>\n",
       "      <td>15.62</td>\n",
       "      <td>0.39</td>\n",
       "      <td>4</td>\n",
       "    </tr>\n",
       "    <tr>\n",
       "      <th>39097</th>\n",
       "      <td>RENT</td>\n",
       "      <td>DEBTCONSOLIDATION</td>\n",
       "      <td>B</td>\n",
       "      <td>N</td>\n",
       "      <td>45000</td>\n",
       "      <td>6.0</td>\n",
       "      <td>19450</td>\n",
       "      <td>9.91</td>\n",
       "      <td>0.44</td>\n",
       "      <td>9</td>\n",
       "    </tr>\n",
       "  </tbody>\n",
       "</table>\n",
       "<p>39098 rows × 10 columns</p>\n",
       "</div>"
      ],
      "text/plain": [
       "      person_home_ownership        loan_intent loan_grade  \\\n",
       "0                      RENT    HOMEIMPROVEMENT          F   \n",
       "1                  MORTGAGE           PERSONAL          C   \n",
       "2                      RENT            VENTURE          E   \n",
       "3                      RENT  DEBTCONSOLIDATION          A   \n",
       "4                  MORTGAGE    HOMEIMPROVEMENT          D   \n",
       "...                     ...                ...        ...   \n",
       "39093              MORTGAGE  DEBTCONSOLIDATION          B   \n",
       "39094              MORTGAGE          EDUCATION          A   \n",
       "39095              MORTGAGE           PERSONAL          A   \n",
       "39096              MORTGAGE           PERSONAL          D   \n",
       "39097                  RENT  DEBTCONSOLIDATION          B   \n",
       "\n",
       "      cb_person_default_on_file  person_income  person_emp_length  loan_amnt  \\\n",
       "0                             N          69000                3.0      25000   \n",
       "1                             Y          96000                6.0      10000   \n",
       "2                             Y          30000                5.0       4000   \n",
       "3                             N          50000                4.0       7000   \n",
       "4                             Y         102000                8.0      15000   \n",
       "...                         ...            ...                ...        ...   \n",
       "39093                         N          31200                2.0       3000   \n",
       "39094                         N          48000                6.0       7000   \n",
       "39095                         N          60000                0.0      15000   \n",
       "39096                         Y          36000                4.0      14000   \n",
       "39097                         N          45000                6.0      19450   \n",
       "\n",
       "       loan_int_rate  loan_percent_income  cb_person_cred_hist_length  \n",
       "0              15.76                 0.36                           2  \n",
       "1              12.68                 0.10                           4  \n",
       "2              17.19                 0.13                           2  \n",
       "3               8.90                 0.14                           7  \n",
       "4              16.32                 0.15                           4  \n",
       "...              ...                  ...                         ...  \n",
       "39093          10.37                 0.10                           4  \n",
       "39094           6.03                 0.15                           3  \n",
       "39095           7.51                 0.25                          25  \n",
       "39096          15.62                 0.39                           4  \n",
       "39097           9.91                 0.44                           9  \n",
       "\n",
       "[39098 rows x 10 columns]"
      ]
     },
     "execution_count": 11,
     "metadata": {},
     "output_type": "execute_result"
    }
   ],
   "source": [
    "test"
   ]
  },
  {
   "cell_type": "code",
   "execution_count": 12,
   "id": "a060c94f",
   "metadata": {
    "execution": {
     "iopub.execute_input": "2024-10-17T05:45:36.901975Z",
     "iopub.status.busy": "2024-10-17T05:45:36.900973Z",
     "iopub.status.idle": "2024-10-17T05:45:37.150090Z",
     "shell.execute_reply": "2024-10-17T05:45:37.149138Z"
    },
    "papermill": {
     "duration": 0.261696,
     "end_time": "2024-10-17T05:45:37.152754",
     "exception": false,
     "start_time": "2024-10-17T05:45:36.891058",
     "status": "completed"
    },
    "tags": []
   },
   "outputs": [],
   "source": [
    "submission = pd.DataFrame(test_idx)\n",
    "# 테스트 데이터에 대한 예측 수행\n",
    "submission['loan_status'] = np.round(random_search.best_estimator_.predict_proba(test)[:, 1], 2)\n",
    "submission.to_csv(f'result_{now.strftime(\"%Y-%m-%d_%H-%M-%S\")}.csv', index=False)"
   ]
  },
  {
   "cell_type": "code",
   "execution_count": 13,
   "id": "7786aa60",
   "metadata": {
    "execution": {
     "iopub.execute_input": "2024-10-17T05:45:37.171948Z",
     "iopub.status.busy": "2024-10-17T05:45:37.171531Z",
     "iopub.status.idle": "2024-10-17T05:45:37.176625Z",
     "shell.execute_reply": "2024-10-17T05:45:37.175532Z"
    },
    "papermill": {
     "duration": 0.01739,
     "end_time": "2024-10-17T05:45:37.178841",
     "exception": false,
     "start_time": "2024-10-17T05:45:37.161451",
     "status": "completed"
    },
    "tags": []
   },
   "outputs": [],
   "source": [
    "# pl_xgb = make_pipeline(\n",
    "#     preprocessor,\n",
    "#     xgb.XGBClassifier(objective='binary:logistic', missing = None)  # 로지스틱 회귀 모델\n",
    "# )\n",
    "\n",
    "# grid_search = GridSearchCV(lr_model, param_grid=LR_params, cv=5)\n",
    "\n",
    "\n",
    "# random_search = RandomizedSearchCV(\n",
    "#     logistic_pipeline, \n",
    "#     param_distributions, \n",
    "#     n_iter=100, \n",
    "#     cv=2, \n",
    "#     random_state=42, \n",
    "#     n_jobs=-1, \n",
    "#     scoring='roc_auc'  # ROC-AUC를 기준으로 스코어링\n",
    "# )"
   ]
  },
  {
   "cell_type": "code",
   "execution_count": 14,
   "id": "c4b46223",
   "metadata": {
    "execution": {
     "iopub.execute_input": "2024-10-17T05:45:37.197251Z",
     "iopub.status.busy": "2024-10-17T05:45:37.196832Z",
     "iopub.status.idle": "2024-10-17T05:45:37.201370Z",
     "shell.execute_reply": "2024-10-17T05:45:37.200383Z"
    },
    "papermill": {
     "duration": 0.016251,
     "end_time": "2024-10-17T05:45:37.203674",
     "exception": false,
     "start_time": "2024-10-17T05:45:37.187423",
     "status": "completed"
    },
    "tags": []
   },
   "outputs": [],
   "source": [
    "# pl_xgb.fit()"
   ]
  }
 ],
 "metadata": {
  "kaggle": {
   "accelerator": "none",
   "dataSources": [
    {
     "databundleVersionId": 9709193,
     "sourceId": 84894,
     "sourceType": "competition"
    }
   ],
   "dockerImageVersionId": 30786,
   "isGpuEnabled": false,
   "isInternetEnabled": true,
   "language": "python",
   "sourceType": "notebook"
  },
  "kernelspec": {
   "display_name": "Python 3",
   "language": "python",
   "name": "python3"
  },
  "language_info": {
   "codemirror_mode": {
    "name": "ipython",
    "version": 3
   },
   "file_extension": ".py",
   "mimetype": "text/x-python",
   "name": "python",
   "nbconvert_exporter": "python",
   "pygments_lexer": "ipython3",
   "version": "3.10.14"
  },
  "papermill": {
   "default_parameters": {},
   "duration": 730.772313,
   "end_time": "2024-10-17T05:45:39.832872",
   "environment_variables": {},
   "exception": null,
   "input_path": "__notebook__.ipynb",
   "output_path": "__notebook__.ipynb",
   "parameters": {},
   "start_time": "2024-10-17T05:33:29.060559",
   "version": "2.6.0"
  }
 },
 "nbformat": 4,
 "nbformat_minor": 5
}
